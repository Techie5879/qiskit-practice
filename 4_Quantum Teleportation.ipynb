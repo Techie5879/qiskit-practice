{
 "cells": [
  {
   "cell_type": "code",
   "execution_count": 2,
   "metadata": {},
   "outputs": [],
   "source": [
    "from dotenv import load_dotenv\n",
    "import os\n",
    "from qiskit import *\n",
    "from qiskit_ibm_provider import IBMProvider\n",
    "from math import *\n",
    "import qiskit\n",
    "\n",
    "load_dotenv()\n",
    "IBM_KEY = os.getenv(\"API_KEY\")\n",
    "provider = IBMProvider()"
   ]
  },
  {
   "attachments": {},
   "cell_type": "markdown",
   "metadata": {},
   "source": [
    "## Quantum Teleportation\n",
    "\n"
   ]
  },
  {
   "cell_type": "code",
   "execution_count": 4,
   "metadata": {},
   "outputs": [
    {
     "data": {
      "text/html": [
       "<pre style=\"word-wrap: normal;white-space: pre;background: #fff0;line-height: 1.1;font-family: &quot;Courier New&quot;,Courier,monospace\">      ┌───┐          ┌───┐┌─┐ ░                                 \n",
       "q1_0: ┤ H ├───────■──┤ H ├┤M├─░─────────────────────────────────\n",
       "      ├───┤     ┌─┴─┐└┬─┬┘└╥┘ ░                                 \n",
       "q1_1: ┤ H ├──■──┤ X ├─┤M├──╫──░─────────────────────────────────\n",
       "      └───┘┌─┴─┐└───┘ └╥┘  ║  ░    ┌───┐       ┌───┐    ┌───┐┌─┐\n",
       "q1_2: ─────┤ X ├───────╫───╫──░────┤ X ├───────┤ Z ├────┤ H ├┤M├\n",
       "           └───┘       ║   ║  ░    └─╥─┘       └─╥─┘    └───┘└╥┘\n",
       "                       ║   ║    ┌────╨─────┐┌────╨─────┐      ║ \n",
       "c2: 2/═════════════════╩═══╩════╡ c2_1=0x1 ╞╡ c2_0=0x1 ╞══════╬═\n",
       "                       1   0    └──────────┘└──────────┘      ║ \n",
       "c3: 1/════════════════════════════════════════════════════════╩═\n",
       "                                                              0 </pre>"
      ],
      "text/plain": [
       "      ┌───┐          ┌───┐┌─┐ ░                                 \n",
       "q1_0: ┤ H ├───────■──┤ H ├┤M├─░─────────────────────────────────\n",
       "      ├───┤     ┌─┴─┐└┬─┬┘└╥┘ ░                                 \n",
       "q1_1: ┤ H ├──■──┤ X ├─┤M├──╫──░─────────────────────────────────\n",
       "      └───┘┌─┴─┐└───┘ └╥┘  ║  ░    ┌───┐       ┌───┐    ┌───┐┌─┐\n",
       "q1_2: ─────┤ X ├───────╫───╫──░────┤ X ├───────┤ Z ├────┤ H ├┤M├\n",
       "           └───┘       ║   ║  ░    └─╥─┘       └─╥─┘    └───┘└╥┘\n",
       "                       ║   ║    ┌────╨─────┐┌────╨─────┐      ║ \n",
       "c2: 2/═════════════════╩═══╩════╡ c2_1=0x1 ╞╡ c2_0=0x1 ╞══════╬═\n",
       "                       1   0    └──────────┘└──────────┘      ║ \n",
       "c3: 1/════════════════════════════════════════════════════════╩═\n",
       "                                                              0 "
      ]
     },
     "execution_count": 4,
     "metadata": {},
     "output_type": "execute_result"
    }
   ],
   "source": [
    "q = QuantumRegister(3)\n",
    "ca = ClassicalRegister(2)\n",
    "cb = ClassicalRegister(1)\n",
    "\n",
    "qc = QuantumCircuit(q, ca, cb)\n",
    "# Creating entaglement\n",
    "qc.h(q[1])\n",
    "qc.cx(q[1], q[2])\n",
    "\n",
    "# Creating a dummy state that is to be teleported\n",
    "qc.h(q[0])\n",
    "qc.cx(q[0], q[1])\n",
    "qc.h(q[0])\n",
    "qc.measure(q[0], ca[0])\n",
    "qc.measure(q[1], ca[1])\n",
    "qc.barrier()\n",
    "\n",
    "# Controlled on the o/p receieved by Bob, he performs X gate and Z gate\n",
    "qc.x(q[2]).c_if(ca[1] ,1)\n",
    "qc.z(q[2]).c_if(ca[0] ,1)\n",
    "\n",
    "# Check if state obtained is same as one to be teleported (H^{dag} = H), So output on measuring q[2] should always be |0>\n",
    "qc.h(q[2])\n",
    "qc.measure(q[2], cb[0])\n",
    "\n",
    "qc.draw()"
   ]
  },
  {
   "cell_type": "code",
   "execution_count": 5,
   "metadata": {},
   "outputs": [
    {
     "name": "stdout",
     "output_type": "stream",
     "text": [
      "{'0 11': 250, '0 00': 254, '0 01': 253, '0 10': 267}\n"
     ]
    }
   ],
   "source": [
    "backend = Aer.get_backend('qasm_simulator')\n",
    "qjob = execute(qc, backend)\n",
    "counts = qjob.result().get_counts()\n",
    "print(counts)\n",
    "# Output structure is cb[0] ca[0]ca[1]\n",
    "# Always get 0 for q[2] "
   ]
  }
 ],
 "metadata": {
  "kernelspec": {
   "display_name": "quantum",
   "language": "python",
   "name": "python3"
  },
  "language_info": {
   "codemirror_mode": {
    "name": "ipython",
    "version": 3
   },
   "file_extension": ".py",
   "mimetype": "text/x-python",
   "name": "python",
   "nbconvert_exporter": "python",
   "pygments_lexer": "ipython3",
   "version": "3.11.3"
  },
  "orig_nbformat": 4
 },
 "nbformat": 4,
 "nbformat_minor": 2
}
