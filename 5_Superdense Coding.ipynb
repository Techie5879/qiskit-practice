{
 "cells": [
  {
   "cell_type": "code",
   "execution_count": 1,
   "metadata": {},
   "outputs": [],
   "source": [
    "from dotenv import load_dotenv\n",
    "import os\n",
    "from qiskit import *\n",
    "from qiskit_ibm_provider import IBMProvider\n",
    "from math import *\n",
    "import qiskit\n",
    "\n",
    "load_dotenv()\n",
    "IBM_KEY = os.getenv(\"API_KEY\")\n",
    "provider = IBMProvider()"
   ]
  },
  {
   "attachments": {},
   "cell_type": "markdown",
   "metadata": {},
   "source": [
    "## SuperdenseCoding\n",
    "\n",
    "Following is the code for transmission of 11 using Superdense Coding"
   ]
  },
  {
   "cell_type": "code",
   "execution_count": 5,
   "metadata": {},
   "outputs": [
    {
     "data": {
      "text/html": [
       "<pre style=\"word-wrap: normal;white-space: pre;background: #fff0;line-height: 1.1;font-family: &quot;Courier New&quot;,Courier,monospace\">      ┌───┐     ┌───┐┌───┐     ┌───┐┌─┐\n",
       "q2_0: ┤ H ├──■──┤ X ├┤ Z ├──■──┤ H ├┤M├\n",
       "      └───┘┌─┴─┐└───┘└───┘┌─┴─┐└┬─┬┘└╥┘\n",
       "q2_1: ─────┤ X ├──────────┤ X ├─┤M├──╫─\n",
       "           └───┘          └───┘ └╥┘  ║ \n",
       "c2: 2/═══════════════════════════╩═══╩═\n",
       "                                 0   1 </pre>"
      ],
      "text/plain": [
       "      ┌───┐     ┌───┐┌───┐     ┌───┐┌─┐\n",
       "q2_0: ┤ H ├──■──┤ X ├┤ Z ├──■──┤ H ├┤M├\n",
       "      └───┘┌─┴─┐└───┘└───┘┌─┴─┐└┬─┬┘└╥┘\n",
       "q2_1: ─────┤ X ├──────────┤ X ├─┤M├──╫─\n",
       "           └───┘          └───┘ └╥┘  ║ \n",
       "c2: 2/═══════════════════════════╩═══╩═\n",
       "                                 0   1 "
      ]
     },
     "execution_count": 5,
     "metadata": {},
     "output_type": "execute_result"
    }
   ],
   "source": [
    "q = QuantumRegister (2)\n",
    "c = ClassicalRegister (2)\n",
    "qc = QuantumCircuit(q,c)\n",
    "# Preparation for entanglement\n",
    "qc.h(q[0])\n",
    "qc.cx(q[0], q[1])\n",
    "\n",
    "# Alice applying the XZ operations on q[0]\n",
    "qc.x(q[0])\n",
    "qc.z(q[0])\n",
    "\n",
    "# Bob Decoding\n",
    "qc.cx(q[0], q[1])\n",
    "qc.h(q[0])\n",
    "\n",
    "# After operations, we get b2b1 but we need b1b2\n",
    "qc.measure(q[0], c[1])\n",
    "qc.measure(q[1], c[0])\n",
    "\n",
    "qc.draw()"
   ]
  },
  {
   "cell_type": "code",
   "execution_count": 6,
   "metadata": {},
   "outputs": [
    {
     "name": "stdout",
     "output_type": "stream",
     "text": [
      "{'11': 1024}\n"
     ]
    }
   ],
   "source": [
    "\n",
    "backend = Aer.get_backend('qasm_simulator')\n",
    "qjob = execute(qc, backend)\n",
    "counts= qjob.result().get_counts()\n",
    "print(counts)\n",
    "# Should get 11 with probability 1"
   ]
  }
 ],
 "metadata": {
  "kernelspec": {
   "display_name": "quantum",
   "language": "python",
   "name": "python3"
  },
  "language_info": {
   "codemirror_mode": {
    "name": "ipython",
    "version": 3
   },
   "file_extension": ".py",
   "mimetype": "text/x-python",
   "name": "python",
   "nbconvert_exporter": "python",
   "pygments_lexer": "ipython3",
   "version": "3.11.3"
  },
  "orig_nbformat": 4
 },
 "nbformat": 4,
 "nbformat_minor": 2
}
