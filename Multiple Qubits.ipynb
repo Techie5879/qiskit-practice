{
 "cells": [
  {
   "cell_type": "code",
   "execution_count": 2,
   "metadata": {},
   "outputs": [],
   "source": [
    "from dotenv import load_dotenv\n",
    "import os\n",
    "from qiskit import *\n",
    "from qiskit_ibm_provider import IBMProvider\n",
    "from math import *\n",
    "import qiskit\n",
    "\n",
    "load_dotenv()\n",
    "IBM_KEY = os.getenv(\"API_KEY\")\n",
    "provider = IBMProvider()"
   ]
  },
  {
   "attachments": {},
   "cell_type": "markdown",
   "metadata": {},
   "source": [
    "## Multiple Qubits\n",
    "\n",
    "For two qubits, we can have a superposition of the 4 states:\n",
    "$$|\\psi \\rangle = \\alpha_0 |00\\rangle + \\alpha_1 |01\\rangle  + \\alpha_2 |10\\rangle  + \\alpha_3 |11\\rangle $$\n",
    "Amplitude of $|\\psi\\rangle$ is denoted as a column vector\n",
    "\n",
    "$$|\\psi \\rangle = \\begin{bmatrix}\\alpha_0 \\\\ \\alpha_1 \\\\ \\alpha_2 \\\\ \\alpha_3\\end{bmatrix}$$\n",
    "\n",
    "$|ab\\rangle$ denotes the tensor product $|a\\rangle \\otimes |b\\rangle$  \n",
    "For two vectors $|a\\rangle, |b\\rangle$\n",
    "\n",
    "$$|a\\rangle = \\begin{bmatrix}a_1 \\\\ a_2 \\\\ \\vdots \\\\ a_n\\end{bmatrix}, |b\\rangle = \\begin{bmatrix}b_1 \\\\ b_2 \\\\ \\vdots \\\\ b_m\\end{bmatrix}$$\n",
    "$$|a\\rangle \\otimes |b\\rangle = \\begin{bmatrix}a_1 \\cdot b_1 \\\\ \\vdots \\\\ a_1\\cdot b_m \\\\ \\vdots \\\\ a_n\\cdot b_1 \\\\ \\vdots \\\\ a_n\\cdot b_m\\end{bmatrix}$$\n",
    "\n",
    "Dimension of tensor product is $(n\\cdot m) \\times 1$\n",
    "\n",
    "Tensor Product of two matrices $A = (a_{ij})_{m\\times n}, B = (b_{ij})_{p\\times q}$ is given by:\n",
    "$$A\\otimes B = \\begin{bmatrix}a_{11}B & a_{12}B & \\dots & a_{1n}B \\\\a_{12}B & a_{22}B & \\dots & a_{2n}B \\\\ \\vdots & & \\ddots & \\vdots \\\\ a_{m1}B & a_{m2}B & \\dots & a_{mn}B\\end{bmatrix}_{mp\\times nq}$$"
   ]
  },
  {
   "attachments": {},
   "cell_type": "markdown",
   "metadata": {},
   "source": [
    "System composed of two qubits of state $|\\phi_1\\rangle, |\\phi_2\\rangle$ can be written as $|\\psi\\rangle = |\\phi_1\\rangle \\otimes |\\phi_2\\rangle$  \n",
    "\n",
    "Similarly, state of n-qubit system which is composed of n single qubits with states $|\\phi_1 \\rangle, |\\phi_2\\rangle, \\dots |\\phi_n \\rangle$ can be denoted as:\n",
    "$$|\\psi \\rangle = |\\phi_1\\rangle \\otimes |\\phi_2\\rangle \\otimes \\dots \\otimes |\\phi_n\\rangle$$\n",
    "\n",
    "But we cannot always express an arbitrary n-qubit quantum system as a tensor product of n single qubit states, due to Quantum Entanglement"
   ]
  },
  {
   "attachments": {},
   "cell_type": "markdown",
   "metadata": {},
   "source": [
    "## Quantum Entanglement\n",
    "\n",
    "A set of qubits whose combined state is $|\\psi \\rangle$ is said to be in a state of entanglement if $|\\psi \\rangle$ cannot be decomposed as $|\\psi \\rangle = |\\phi \\rangle \\otimes |\\xi \\rangle$ where $|\\phi \\rangle$ and $|\\xi \\rangle$ are two independent quantum states.\n",
    "\n",
    "In $|\\psi\\rangle = \\frac{1}{\\sqrt2}(|00\\rangle + |11\\rangle)$, $|\\psi\\rangle$ cannot be written as a tensor product of two single qubit states - they are in a state of entanglement.  \n",
    "However, in the above, if we conduct a measurement of the first qubit, we obtain $|0\\rangle$ with a probability of $\\frac{1}{2}$ and $|1\\rangle$ with a probability of $\\frac{1}{2}$ (same situation if we measure the second qubit first).  \n",
    "Suppose we have obtained $|0\\rangle$ on first qubit measurement $\\rightarrow$ we will obtain a measurement of $|0\\rangle$ with a probability of $1$ for the second qubit (as the state of the system has been collapsed to $|00\\rangle$). So from just measuring any one of the qubits, we can learn about the measurement outcome for the remaining qubit.\n",
    "\n",
    "Measurement of first qubit $\\rightarrow$ Probabilistic  \n",
    "Measurement of subsequent second qubit $\\rightarrow$ Determined exactly\n"
   ]
  },
  {
   "attachments": {},
   "cell_type": "markdown",
   "metadata": {},
   "source": [
    "### Bell States or EPR Pairs (Important Two-Qubit States):\n",
    "\n",
    "$$|\\Phi^+\\rangle = \\frac{1}{\\sqrt2}(|00\\rangle + |11\\rangle)$$\n",
    "$$|\\Phi^-\\rangle = \\frac{1}{\\sqrt2}(|00\\rangle - |11\\rangle)$$\n",
    "$$|\\Psi^+\\rangle = \\frac{1}{\\sqrt2}(|01\\rangle + |10\\rangle)$$\n",
    "$$|\\Psi^-\\rangle = \\frac{1}{\\sqrt2}(|01\\rangle - |10\\rangle)$$\n",
    "\n",
    "### GHZ States (used in Quantum Error corrections):\n",
    "$$|GHZ_\\pm \\rangle = \\frac{1}{\\sqrt2}(|000\\rangle \\pm |111\\rangle)$$"
   ]
  },
  {
   "attachments": {},
   "cell_type": "markdown",
   "metadata": {},
   "source": [
    "## Multi-Qubit Gates\n",
    "\n",
    "### Controlled NOT Gate:  \n",
    "Analogue to Classical XOR gate $\\rightarrow$ CNOT Gate (Controlled NOT Gate)  \n",
    "CNOT Gate has two inputs: \"control\" qubit and \"target\" qubit  \n",
    "If control qubit is set to $|1\\rangle$, then flip target qubit, else do nothing (CNOT basically implements X gate on target qubit if controlled qubit is in state $|1\\rangle$)\n",
    "$$\\text{CNOT} := \\begin{bmatrix}1 & 0 & 0 & 0 \\\\ 0 & 1 & 0 & 0 \\\\ 0 & 0 & 0 & 1 \\\\ 0 & 0 & 1 & 0\\end{bmatrix}$$\n",
    "\n",
    "For $|\\psi \\rangle = \\alpha_0 |00\\rangle + \\alpha_1 |01\\rangle  + \\alpha_2 |10\\rangle  + \\alpha_3 |11\\rangle $, action of CNOT gate can be described as:\n",
    "$$\\text{CNOT}|\\psi \\rangle = \\alpha_0 |00\\rangle + \\alpha_1 |01\\rangle  + \\alpha_2 |11\\rangle  + \\alpha_3 |10\\rangle $$  \n",
    "We can state the action of the CNOT Gate in computational basis state of the individual qubits:\n",
    "$$\\text{CNOT}|a\\rangle |b\\rangle \\rightarrow |a\\rangle |a \\oplus b\\rangle$$  \n",
    "or, we can think of CNOT as a function that acts on two qubits:\n",
    "$$\\text{CNOT}(|a\\rangle, |b\\rangle) \\rightarrow (|a\\rangle, |a \\oplus b\\rangle)$$\n",
    "\n",
    "$\\text{CNOT} + \\text{all single qubit quantum gates} \\rightarrow \\text{can be used to construct any quantum gate}$  \n",
    "So, CNOT and all single qubit quantum gates are called universal quantum gates\n",
    "\n",
    "#### Controlled Hadamard Gate:\n",
    "$$C_H = \\begin{bmatrix}1 & 0 & 0 & 0 \\\\ 0 & 1 & 0 & 0 \\\\[6pt] 0 & 0 & \\frac{1}{\\sqrt2} & \\frac{1}{\\sqrt2} \\\\[6pt] 0 & 0 & \\frac{1}{\\sqrt2} & -\\frac{1}{\\sqrt2}\\end{bmatrix}$$\n",
    "\n",
    "#### Toffoli Gate (CCNOT):\n",
    "\n",
    "Extension of CNOT to three qubits, first two are control qubits and the 3rd is target qubit. Target qubit is flipped iff both control qubits are set to 1\n",
    "$$CCNOT |a \\rangle | b \\rangle |c\\rangle \\rightarrow |a\\rangle|b\\rangle|c \\oplus (a\\cdot b)\\rangle$$  \n",
    "Corresponding unitary matrix for CCNOT gate (operating on 3 qubits, so $8 \\times 8$ matrix)\n",
    "$$CCNOT := \\begin{bmatrix}1 & 0 & 0 & 0 & 0 & 0 & 0 & 0 \\\\\n",
    "                          0 & 1 & 0 & 0 & 0 & 0 & 0 & 0 \\\\\n",
    "                          0 & 0 & 1 & 0 & 0 & 0 & 0 & 0 \\\\\n",
    "                          0 & 0 & 0 & 1 & 0 & 0 & 0 & 0 \\\\\n",
    "                          0 & 0 & 0 & 0 & 1 & 0 & 0 & 0 \\\\\n",
    "                          0 & 0 & 0 & 0 & 0 & 1 & 0 & 0 \\\\\n",
    "                          0 & 0 & 0 & 0 & 0 & 0 & 0 & 1 \\\\\n",
    "                          0 & 0 & 0 & 0 & 0 & 0 & 1 & 0 \\\\\n",
    "                            \\end{bmatrix}$$"
   ]
  },
  {
   "attachments": {},
   "cell_type": "markdown",
   "metadata": {},
   "source": [
    "## No Cloning Theorem\n",
    "\n",
    "With multiple qubits of state $|\\psi \\rangle$, we can get an estimate of $\\alpha, \\beta$ but not with a single qubit because on measuring, it collapses to either one of its computational basis states $|0\\rangle$, or $|1\\rangle$\n",
    "\n",
    "Question is, can we clone a qubit to make mutliple copies of $|\\psi\\rangle$? (Need a circuit that takes a qubit and an ancillary qubit [Ancilla] as input and output two copies of $|\\psi\\rangle$) $\\rightarrow$ CNOT gate might be useful (due to the following copying action):\n",
    "\n",
    "$$CNOT|0\\rangle |0\\rangle \\rightarrow |0\\rangle |0\\rangle$$\n",
    "$$CNOT|1\\rangle |0\\rangle \\rightarrow |1\\rangle |1\\rangle$$\n",
    "\n",
    "But, for any given arbitary qubit state,\n",
    "$$CNOT(\\alpha |0\\rangle + \\beta|1\\rangle)\\rightarrow \\alpha |0\\rangle|0\\rangle+\\beta|1\\rangle|1\\rangle \\text{(Entanglement!)}$$\n",
    "We wanted:\n",
    "$$|\\psi\\rangle \\otimes |\\psi\\rangle = (\\alpha |0\\rangle + \\beta|1\\rangle)\\otimes(\\alpha |0\\rangle + \\beta|1\\rangle)$$\n",
    "\n",
    "Infact, no such circuit for copying can exist, i.e., no Unitary U exists for all unknown arbitrary states $|\\psi\\rangle$, $U|\\psi\\rangle|j\\rangle \\rightarrow |\\psi\\rangle|\\psi\\rangle$"
   ]
  },
  {
   "attachments": {},
   "cell_type": "markdown",
   "metadata": {},
   "source": [
    "### Code for creating Bell State $|\\phi^+\\rangle$"
   ]
  },
  {
   "cell_type": "code",
   "execution_count": 3,
   "metadata": {},
   "outputs": [
    {
     "data": {
      "text/html": [
       "<pre style=\"word-wrap: normal;white-space: pre;background: #fff0;line-height: 1.1;font-family: &quot;Courier New&quot;,Courier,monospace\">      ┌───┐     ┌─┐   \n",
       "q0_0: ┤ H ├──■──┤M├───\n",
       "      └───┘┌─┴─┐└╥┘┌─┐\n",
       "q0_1: ─────┤ X ├─╫─┤M├\n",
       "           └───┘ ║ └╥┘\n",
       "c0: 2/═══════════╩══╩═\n",
       "                 0  1 </pre>"
      ],
      "text/plain": [
       "      ┌───┐     ┌─┐   \n",
       "q0_0: ┤ H ├──■──┤M├───\n",
       "      └───┘┌─┴─┐└╥┘┌─┐\n",
       "q0_1: ─────┤ X ├─╫─┤M├\n",
       "           └───┘ ║ └╥┘\n",
       "c0: 2/═══════════╩══╩═\n",
       "                 0  1 "
      ]
     },
     "execution_count": 3,
     "metadata": {},
     "output_type": "execute_result"
    }
   ],
   "source": [
    "q = QuantumRegister(2)\n",
    "c = ClassicalRegister(2)\n",
    "qc = QuantumCircuit(q, c)\n",
    "\n",
    "qc.h(q[0])\n",
    "qc.cx(q[0], q[1])\n",
    "qc.measure(q, c)\n",
    "\n",
    "qc.draw()"
   ]
  },
  {
   "cell_type": "code",
   "execution_count": 4,
   "metadata": {},
   "outputs": [
    {
     "name": "stdout",
     "output_type": "stream",
     "text": [
      "{'11': 513, '00': 511}\n"
     ]
    }
   ],
   "source": [
    "backend = Aer.get_backend('qasm_simulator')\n",
    "qjob = execute(qc, backend)\n",
    "counts = qjob.result().get_counts()\n",
    "print(counts)"
   ]
  },
  {
   "attachments": {},
   "cell_type": "markdown",
   "metadata": {},
   "source": [
    "### Code for creating Bell State $|GHZ_{+}\\rangle$"
   ]
  },
  {
   "cell_type": "code",
   "execution_count": 23,
   "metadata": {},
   "outputs": [
    {
     "name": "stdout",
     "output_type": "stream",
     "text": [
      "{'000': 505, '111': 519}\n"
     ]
    }
   ],
   "source": [
    "q = QuantumRegister(3)\n",
    "c = ClassicalRegister(3)\n",
    "qc = QuantumCircuit(q, c)\n",
    "\n",
    "qc.h(q[0])\n",
    "qc.cx(q[0], q[1])\n",
    "qc.cx(q[1], q[2])\n",
    "qc.measure(q, c)\n",
    "\n",
    "backend = Aer.get_backend('qasm_simulator')\n",
    "qjob = execute(qc, backend)\n",
    "counts = qjob.result().get_counts()\n",
    "print(counts)"
   ]
  }
 ],
 "metadata": {
  "kernelspec": {
   "display_name": "quantum",
   "language": "python",
   "name": "python3"
  },
  "language_info": {
   "codemirror_mode": {
    "name": "ipython",
    "version": 3
   },
   "file_extension": ".py",
   "mimetype": "text/x-python",
   "name": "python",
   "nbconvert_exporter": "python",
   "pygments_lexer": "ipython3",
   "version": "3.11.3"
  },
  "orig_nbformat": 4
 },
 "nbformat": 4,
 "nbformat_minor": 2
}
