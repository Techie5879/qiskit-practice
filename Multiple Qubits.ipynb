{
 "cells": [
  {
   "cell_type": "code",
   "execution_count": null,
   "metadata": {},
   "outputs": [],
   "source": [
    "from dotenv import load_dotenv\n",
    "import os\n",
    "from qiskit import *\n",
    "from qiskit_ibm_provider import IBMProvider\n",
    "from math import *\n",
    "import qiskit\n",
    "\n",
    "load_dotenv()\n",
    "IBM_KEY = os.getenv(\"API_KEY\")\n",
    "provider = IBMProvider()"
   ]
  },
  {
   "attachments": {},
   "cell_type": "markdown",
   "metadata": {},
   "source": [
    "## Multiple Qubits\n",
    "\n",
    "For two qubits, we can have a superposition of the 4 states:\n",
    "$$|\\psi \\rangle = \\alpha_0 |00\\rangle + \\alpha_1 |01\\rangle  + \\alpha_2 |10\\rangle  + \\alpha_3 |11\\rangle $$\n",
    "Amplitude of $|\\psi\\rangle$ is denoted as a column vector\n",
    "\n",
    "$$|\\psi \\rangle = \\begin{bmatrix}\\alpha_0 \\\\ \\alpha_1 \\\\ \\alpha_2 \\\\ \\alpha_3\\end{bmatrix}$$\n",
    "\n",
    "$|ab\\rangle$ denotes the tensor product $|a\\rangle \\otimes |b\\rangle$  \n",
    "For two vectors $|a\\rangle, |b\\rangle$\n",
    "\n",
    "$$|a\\rangle = \\begin{bmatrix}a_1 \\\\ a_2 \\\\ \\vdots \\\\ a_n\\end{bmatrix}, |b\\rangle = \\begin{bmatrix}b_1 \\\\ b_2 \\\\ \\vdots \\\\ b_m\\end{bmatrix}$$\n",
    "$$|a\\rangle \\otimes |b\\rangle = \\begin{bmatrix}a_1 \\cdot b_1 \\\\ \\vdots \\\\ a_1\\cdot b_m \\\\ \\vdots \\\\ a_n\\cdot b_1 \\\\ \\vdots \\\\ a_n\\cdot b_m\\end{bmatrix}$$\n",
    "\n",
    "Dimension of tensor product is $(n\\cdot m) \\times 1$\n",
    "\n",
    "Tensor Product of two matrices $A = (a_{ij})_{m\\times n}, B = (b_{ij})_{p\\times q}$ is given by:\n",
    "$$A\\otimes B = \\begin{bmatrix}a_{11}B & a_{12}B & \\dots & a_{1n}B \\\\a_{12}B & a_{22}B & \\dots & a_{2n}B \\\\ \\vdots & & \\ddots & \\vdots \\\\ a_{m1}B & a_{m2}B & \\dots & a_{mn}B\\end{bmatrix}_{mp\\times nq}$$"
   ]
  },
  {
   "attachments": {},
   "cell_type": "markdown",
   "metadata": {},
   "source": [
    "System composed of two qubits of state $|\\phi_1\\rangle, |\\phi_2\\rangle$ can be written as $|\\psi\\rangle = |\\phi_1\\rangle \\otimes |\\phi_2\\rangle$  \n",
    "\n",
    "Similarly, state of n-qubit system which is composed of n single qubits with states $|\\phi_1 \\rangle, |\\phi_2\\rangle, \\dots |\\phi_n \\rangle$ can be denoted as:\n",
    "$$|\\psi \\rangle = |\\phi_1\\rangle \\otimes |\\phi_2\\rangle \\otimes \\dots \\otimes |\\phi_n\\rangle$$\n",
    "\n",
    "But we cannot always express an arbitrary n-qubit quantum system as a tensor product of n single qubit states, due to Quantum Entanglement"
   ]
  },
  {
   "attachments": {},
   "cell_type": "markdown",
   "metadata": {},
   "source": [
    "## Quantum Entanglement\n",
    "\n",
    "A set of qubits whose combined state is $|\\psi \\rangle$ is said to be in a state of entanglement if $|\\psi \\rangle$ cannot be decomposed as $|\\psi \\rangle = |\\phi \\rangle \\otimes |\\xi \\rangle$ where $|\\phi \\rangle$ and $|\\xi \\rangle$ are two independent quantum states.\n",
    "\n",
    "In $|\\psi\\rangle = \\frac{1}{\\sqrt2}(|00\\rangle + |11\\rangle)$, $|\\psi\\rangle$ cannot be written as a tensor product of two single qubit states - they are in a state of entanglement.  \n",
    "However, in the above, if we conduct a measurement of the first qubit, we obtain $|0\\rangle$ with a probability of $\\frac{1}{2}$ and $|1\\rangle$ with a probability of $\\frac{1}{2}$ (same situation if we measure the second qubit first).  \n",
    "Suppose we have obtained $|0\\rangle$ on first qubit measurement $\\rightarrow$ we will obtain a measurement of $|0\\rangle$ with a probability of $1$ for the second qubit (as the state of the system has been collapsed to $|00\\rangle$). So from just measuring any one of the qubits, we can learn about the measurement outcome for the remaining qubit.\n",
    "\n",
    "Measurement of first qubit $\\rightarrow$ Probabilistic  \n",
    "Measurement of subsequent second qubit $\\rightarrow$ Determined exactly\n"
   ]
  },
  {
   "attachments": {},
   "cell_type": "markdown",
   "metadata": {},
   "source": [
    "### Bell States or EPR Pairs (Important Two-Qubit States):\n",
    "\n",
    "$$|\\Phi^+\\rangle = \\frac{1}{\\sqrt2}(|00\\rangle + |11\\rangle)$$\n",
    "$$|\\Phi^-\\rangle = \\frac{1}{\\sqrt2}(|00\\rangle - |11\\rangle)$$\n",
    "$$|\\Psi^+\\rangle = \\frac{1}{\\sqrt2}(|01\\rangle + |10\\rangle)$$\n",
    "$$|\\Psi^-\\rangle = \\frac{1}{\\sqrt2}(|01\\rangle - |10\\rangle)$$\n",
    "\n",
    "### GHZ States (used in Quantum Error corrections):\n",
    "$$|GHZ_\\pm \\rangle = \\frac{1}{\\sqrt2}(|000\\rangle \\pm |111\\rangle)$$"
   ]
  },
  {
   "attachments": {},
   "cell_type": "markdown",
   "metadata": {},
   "source": [
    "## Multi-Qubit Gates\n",
    "\n",
    "### Controlled NOT Gate:  \n",
    "Analogue to Classical XOR gate $\\rightarrow$ CNOT Gate (Controlled NOT Gate)  \n",
    "CNOT Gate has two inputs: \"control\" qubit and \"target\" qubit  \n",
    "If control qubit is set to $|1\\rangle$, then flip target qubit, else do nothing (CNOT basically implements X gate on target qubit if controlled qubit is in state $|1\\rangle$)\n",
    "$$\\text{CNOT} := \\begin{bmatrix}1 & 0 & 0 & 0 \\\\ 0 & 1 & 0 & 0 \\\\ 0 & 0 & 0 & 1 \\\\ 0 & 0 & 1 & 0\\end{bmatrix}$$\n",
    "\n",
    "For $|\\psi \\rangle = \\alpha_0 |00\\rangle + \\alpha_1 |01\\rangle  + \\alpha_2 |10\\rangle  + \\alpha_3 |11\\rangle $, action of CNOT gate can be described as:\n",
    "$$\\text{CNOT}|\\psi \\rangle = \\alpha_0 |00\\rangle + \\alpha_1 |01\\rangle  + \\alpha_2 |11\\rangle  + \\alpha_3 |10\\rangle $$  \n",
    "We can state the action of the CNOT Gate in computational basis state of the individual qubits:\n",
    "$$\\text{CNOT}|a\\rangle |b\\rangle \\rightarrow |a\\rangle |a \\oplus b\\rangle$$  \n",
    "or, we can think of CNOT as a function that acts on two qubits:\n",
    "$$\\text{CNOT}(|a\\rangle, |b\\rangle) \\rightarrow (|a\\rangle, |a \\oplus b\\rangle)$$\n",
    "\n",
    "$\\text{CNOT} + \\text{all single qubit quantum gates} \\rightarrow \\text{can be used to construct any quantum gate}$  \n",
    "So, CNOT and all single qubit quantum gates are called universal quantum gates\n",
    "\n",
    "#### Controlled Hadamard Gate:\n",
    "$$C_H = \\begin{bmatrix}1 & 0 & 0 & 0 \\\\ 0 & 1 & 0 & 0 \\\\[6pt] 0 & 0 & \\frac{1}{\\sqrt2} & \\frac{1}{\\sqrt2} \\\\[6pt] 0 & 0 & \\frac{1}{\\sqrt2} & -\\frac{1}{\\sqrt2}\\end{bmatrix}$$\n",
    "\n",
    "#### Toffoli Gate (CCNOT):\n",
    "\n",
    "Extension of CNOT to three qubits, first two are control qubits and the 3rd is target qubit. Target qubit is flipped iff both control qubits are set to 1"
   ]
  },
  {
   "cell_type": "markdown",
   "metadata": {},
   "source": []
  }
 ],
 "metadata": {
  "kernelspec": {
   "display_name": "quantum",
   "language": "python",
   "name": "python3"
  },
  "language_info": {
   "name": "python",
   "version": "3.11.3"
  },
  "orig_nbformat": 4
 },
 "nbformat": 4,
 "nbformat_minor": 2
}
