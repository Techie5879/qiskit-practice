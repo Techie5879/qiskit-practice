{
 "cells": [
  {
   "cell_type": "code",
   "execution_count": null,
   "metadata": {},
   "outputs": [],
   "source": [
    "from dotenv import load_dotenv\n",
    "import os\n",
    "from qiskit import *\n",
    "from qiskit_ibm_provider import IBMProvider\n",
    "from math import *\n",
    "import qiskit\n",
    "\n",
    "load_dotenv()\n",
    "IBM_KEY = os.getenv(\"API_KEY\")\n",
    "provider = IBMProvider()"
   ]
  },
  {
   "attachments": {},
   "cell_type": "markdown",
   "metadata": {},
   "source": [
    "## Multiple Qubits\n",
    "\n",
    "For two qubits, we can have a superposition of the 4 states:\n",
    "$$|\\psi \\rangle = \\alpha_0 |00\\rangle + \\alpha_1 |01\\rangle  + \\alpha_2 |10\\rangle  + \\alpha_3 |11\\rangle $$\n",
    "Amplitude of $|\\psi\\rangle$ is denoted as a column vector\n",
    "\n",
    "$$|\\psi \\rangle = \\begin{bmatrix}\\alpha_0 \\\\ \\alpha_1 \\\\ \\alpha_2 \\\\ \\alpha_3\\end{bmatrix}$$\n",
    "\n",
    "$|ab\\rangle$ denotes the tensor product $|a\\rangle \\otimes |b\\rangle$  \n",
    "For two vectors $|a\\rangle, |b\\rangle$\n",
    "\n",
    "$$|a\\rangle = \\begin{bmatrix}a_1 \\\\ a_2 \\\\ \\vdots \\\\ a_n\\end{bmatrix}, |b\\rangle = \\begin{bmatrix}b_1 \\\\ b_2 \\\\ \\vdots \\\\ b_m\\end{bmatrix}$$\n",
    "$$|a\\rangle \\otimes |b\\rangle = \\begin{bmatrix}a_1 \\cdot b_1 \\\\ \\vdots \\\\ a_1\\cdot b_m \\\\ \\vdots \\\\ a_n\\cdot b_1 \\\\ \\vdots \\\\ a_n\\cdot b_m\\end{bmatrix}$$\n",
    "\n",
    "Dimension of tensor product is $(n\\cdot m) \\times 1$\n",
    "\n",
    "Tensor Product of two matrices $A = (a_{ij})_{m\\times n}, B = (b_{ij})_{p\\times q}$ is given by:\n",
    "$$A\\otimes B = \\begin{bmatrix}a_{11}B & a_{12}B & \\dots & a_{1n}B \\\\a_{12}B & a_{22}B & \\dots & a_{2n}B \\\\ \\vdots & & \\ddots & \\vdots \\\\ a_{m1}B & a_{m2}B & \\dots & a_{mn}B\\end{bmatrix}_{mp\\times nq}$$"
   ]
  },
  {
   "attachments": {},
   "cell_type": "markdown",
   "metadata": {},
   "source": [
    "System composed of two qubits of state $|\\phi_1\\rangle, |\\phi_2\\rangle$ can be written as $|\\psi\\rangle = |\\phi_1\\rangle \\otimes |\\phi_2\\rangle$  \n",
    "\n",
    "Similarly, state of n-qubit system which is composed of n single qubits with states $|\\phi_1 \\rangle, |\\phi_2\\rangle, \\dots |\\phi_n \\rangle$ can be denoted as:\n",
    "$$|\\psi \\rangle = |\\phi_1\\rangle \\otimes |\\phi_2\\rangle \\otimes \\dots \\otimes |\\phi_n\\rangle$$\n",
    "\n",
    "But we cannot always express an arbitrary n-qubit quantum system as a tensor product of n single qubit states, due to Quantum Entanglement"
   ]
  }
 ],
 "metadata": {
  "language_info": {
   "name": "python"
  },
  "orig_nbformat": 4
 },
 "nbformat": 4,
 "nbformat_minor": 2
}
