{
 "cells": [
  {
   "cell_type": "markdown",
   "metadata": {},
   "source": [
    "## Quantum Phase Estimation"
   ]
  },
  {
   "cell_type": "code",
   "execution_count": 6,
   "metadata": {},
   "outputs": [],
   "source": [
    "import qiskit\n",
    "from qiskit import QuantumCircuit, Aer, transpile\n",
    "from qiskit.visualization import plot_histogram\n",
    "from qiskit.providers.aer import AerSimulator"
   ]
  },
  {
   "cell_type": "code",
   "execution_count": 10,
   "metadata": {},
   "outputs": [],
   "source": [
    "# Function to setup QPE circuit for a given eigenvector\n",
    "def qpe_for_z(eigenvector):\n",
    "    qc = QuantumCircuit(2, 1)  # 2 qubits, 1 classical bit for measurement\n",
    "\n",
    "    # Prepare the eigenvector on the second qubit\n",
    "    if eigenvector == '1':\n",
    "        qc.x(1)\n",
    "\n",
    "    # Apply Hadamard to the ancilla\n",
    "    qc.h(0)\n",
    "\n",
    "    # Controlled-Z operation\n",
    "    qc.cz(0, 1)\n",
    "\n",
    "    # Inverse QFT (Hadamard for single qubit)\n",
    "    qc.h(0)\n",
    "\n",
    "    # Measurement\n",
    "    qc.measure(0, 0)\n",
    "\n",
    "    return qc\n"
   ]
  },
  {
   "cell_type": "code",
   "execution_count": 12,
   "metadata": {},
   "outputs": [],
   "source": [
    "\n",
    "# Eigenvectors '0' and '1'\n",
    "eigenvectors = ['0', '1']\n",
    "results = {}\n",
    "\n",
    "simulator = AerSimulator()\n",
    "\n",
    "for vec in eigenvectors:\n",
    "    qc = qpe_for_z(vec)\n",
    "    compiled_circuit = transpile(qc, simulator)\n",
    "    result = simulator.run(compiled_circuit, shots=1000).result()\n",
    "    counts = result.get_counts()\n",
    "    results[f\"Eigenvector |{vec}⟩\"] = counts\n"
   ]
  },
  {
   "cell_type": "code",
   "execution_count": 19,
   "metadata": {},
   "outputs": [
    {
     "data": {
      "text/plain": [
       "{'Eigenvector |0⟩': {'0': 1000}, 'Eigenvector |1⟩': {'1': 1000}}"
      ]
     },
     "execution_count": 19,
     "metadata": {},
     "output_type": "execute_result"
    }
   ],
   "source": [
    "results"
   ]
  },
  {
   "cell_type": "code",
   "execution_count": 21,
   "metadata": {},
   "outputs": [
    {
     "name": "stdout",
     "output_type": "stream",
     "text": [
      "Eigenvector |0⟩\n",
      "Eigenvector |1⟩\n"
     ]
    },
    {
     "name": "stderr",
     "output_type": "stream",
     "text": [
      "C:\\Users\\techi\\AppData\\Local\\Temp\\ipykernel_5392\\3592167987.py:4: UserWarning: Matplotlib is currently using module://matplotlib_inline.backend_inline, which is a non-GUI backend, so cannot show the figure.\n",
      "  plot_histogram(val, title=key).show()\n"
     ]
    }
   ],
   "source": [
    "\n",
    "# Display the results\n",
    "for key, val in results.items():\n",
    "    print(key)\n",
    "    plot_histogram(val, title=key).savefig(f\"qpe_{key}.png\")\n"
   ]
  }
 ],
 "metadata": {
  "kernelspec": {
   "display_name": "quantum",
   "language": "python",
   "name": "python3"
  },
  "language_info": {
   "codemirror_mode": {
    "name": "ipython",
    "version": 3
   },
   "file_extension": ".py",
   "mimetype": "text/x-python",
   "name": "python",
   "nbconvert_exporter": "python",
   "pygments_lexer": "ipython3",
   "version": "3.11.3"
  },
  "orig_nbformat": 4
 },
 "nbformat": 4,
 "nbformat_minor": 2
}
