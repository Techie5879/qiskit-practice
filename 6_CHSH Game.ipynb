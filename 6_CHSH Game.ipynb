{
 "cells": [
  {
   "cell_type": "code",
   "execution_count": 5,
   "metadata": {},
   "outputs": [],
   "source": [
    "from dotenv import load_dotenv\n",
    "import os\n",
    "from qiskit import *\n",
    "from qiskit_ibm_provider import IBMProvider\n",
    "from math import *\n",
    "import qiskit\n",
    "from qiskit.circuit.library.standard_gates import *\n",
    "load_dotenv()\n",
    "IBM_KEY = os.getenv(\"API_KEY\")\n",
    "provider = IBMProvider()"
   ]
  },
  {
   "attachments": {},
   "cell_type": "markdown",
   "metadata": {},
   "source": [
    "## CHSH Game\n",
    "Three party game: Alice, Charlie and Bob  \n",
    "Charlie selects 2 bits $x$, $y$ uniformly and independently and gives them to Alice and Bob who cannot communicate with each other.  \n",
    "Alice and Bob must output $a$ and $b$ respectively such that, $$x\\cdot y = a \\oplus b$$  \n",
    "In a classical setting, winning for Alice and Bob is possible with a probability of $0.75$ in the optimal case but if they share an entagled bit beforehand, this increases to $0.854$"
   ]
  },
  {
   "cell_type": "code",
   "execution_count": 108,
   "metadata": {},
   "outputs": [
    {
     "data": {
      "text/html": [
       "<pre style=\"word-wrap: normal;white-space: pre;background: #fff0;line-height: 1.1;font-family: &quot;Courier New&quot;,Courier,monospace\">                   ░ ┌───┐┌─┐    ░                                            »\n",
       "q600_0: ───────────░─┤ H ├┤M├────░────────■───────────────────────────────────»\n",
       "                   ░ ├───┤└╥┘┌─┐ ░        │        ┌───┐                 ┌───┐»\n",
       "q600_1: ───────────░─┤ H ├─╫─┤M├─░────────┼────────┤ X ├────────■────────┤ X ├»\n",
       "        ┌───┐      ░ └───┘ ║ └╥┘ ░ ┌──────┴───────┐└┬─┬┘        │        └───┘»\n",
       "q601_0: ┤ H ├──■───░───────╫──╫──░─┤ U(π/2,0,π,0) ├─┤M├─────────┼─────────────»\n",
       "        └───┘┌─┴─┐ ░       ║  ║  ░ └──────────────┘ └╥┘ ┌───────┴───────┐     »\n",
       "q601_1: ─────┤ X ├─░───────╫──╫──░───────────────────╫──┤ U(-π/4,0,0,0) ├─────»\n",
       "             └───┘ ░       ║  ║  ░                   ║  └───────────────┘     »\n",
       " c12: 2/═══════════════════╩══╩══════════════════════╬════════════════════════»\n",
       "                           1  0                      ║                        »\n",
       " c13: 2/═════════════════════════════════════════════╩════════════════════════»\n",
       "                                                     1                        »\n",
       "«                           \n",
       "«q600_0: ───────────────────\n",
       "«                           \n",
       "«q600_1: ───────■───────────\n",
       "«               │           \n",
       "«q601_0: ───────┼───────────\n",
       "«        ┌──────┴───────┐┌─┐\n",
       "«q601_1: ┤ U(π/4,0,0,0) ├┤M├\n",
       "«        └──────────────┘└╥┘\n",
       "« c12: 2/═════════════════╬═\n",
       "«                         ║ \n",
       "« c13: 2/═════════════════╩═\n",
       "«                         0 </pre>"
      ],
      "text/plain": [
       "                   ░ ┌───┐┌─┐    ░                                            »\n",
       "q600_0: ───────────░─┤ H ├┤M├────░────────■───────────────────────────────────»\n",
       "                   ░ ├───┤└╥┘┌─┐ ░        │        ┌───┐                 ┌───┐»\n",
       "q600_1: ───────────░─┤ H ├─╫─┤M├─░────────┼────────┤ X ├────────■────────┤ X ├»\n",
       "        ┌───┐      ░ └───┘ ║ └╥┘ ░ ┌──────┴───────┐└┬─┬┘        │        └───┘»\n",
       "q601_0: ┤ H ├──■───░───────╫──╫──░─┤ U(π/2,0,π,0) ├─┤M├─────────┼─────────────»\n",
       "        └───┘┌─┴─┐ ░       ║  ║  ░ └──────────────┘ └╥┘ ┌───────┴───────┐     »\n",
       "q601_1: ─────┤ X ├─░───────╫──╫──░───────────────────╫──┤ U(-π/4,0,0,0) ├─────»\n",
       "             └───┘ ░       ║  ║  ░                   ║  └───────────────┘     »\n",
       " c12: 2/═══════════════════╩══╩══════════════════════╬════════════════════════»\n",
       "                           1  0                      ║                        »\n",
       " c13: 2/═════════════════════════════════════════════╩════════════════════════»\n",
       "                                                     1                        »\n",
       "«                           \n",
       "«q600_0: ───────────────────\n",
       "«                           \n",
       "«q600_1: ───────■───────────\n",
       "«               │           \n",
       "«q601_0: ───────┼───────────\n",
       "«        ┌──────┴───────┐┌─┐\n",
       "«q601_1: ┤ U(π/4,0,0,0) ├┤M├\n",
       "«        └──────────────┘└╥┘\n",
       "« c12: 2/═════════════════╬═\n",
       "«                         ║ \n",
       "« c13: 2/═════════════════╩═\n",
       "«                         0 "
      ]
     },
     "execution_count": 108,
     "metadata": {},
     "output_type": "execute_result"
    }
   ],
   "source": [
    "qin = QuantumRegister(2)\n",
    "qout = QuantumRegister(2)\n",
    "cin = ClassicalRegister(2)\n",
    "cout = ClassicalRegister(2)\n",
    "qc = QuantumCircuit(qin, qout, cin, cout)\n",
    "\n",
    "# Pre-game preparation of entanglement\n",
    "qc.h(qout[0])\n",
    "qc.cx(qout[0], qout[1])\n",
    "# Alice gets access to qout[0] and Bob gets access to qout[1]\n",
    "qc.barrier()\n",
    "\n",
    "# Charlie obtains x,y uniformly and independently at random\n",
    "qc.h([qin[0],qin [1]])\n",
    "qc.measure(qin[0], cin[1]) #This is x\n",
    "qc.measure(qin[1], cin[0]) #This is y\n",
    "qc.barrier()\n",
    "\n",
    "# Application of controlled U3 gate based on x result\n",
    "U_Alice = UGate(pi/2, 0, pi).control(1)\n",
    "qc.append(U_Alice, [qin[0], qout[0]])\n",
    "qc.measure(qout[0], cout[1])\n",
    "\n",
    "#Depending on the state of y Bob performs his operations.\n",
    "#We put X-gate because we want the below gate to be applied only if qin =0. So we use X(qin) as control.\n",
    "qc.x(qin[1])\n",
    "U_Bob1 = UGate(-pi/4, 0, 0).control(1)\n",
    "qc.append(U_Bob1, [qin[1], qout[1]])\n",
    "\n",
    "qc.x(qin[1])\n",
    "U_Bob2 = UGate(pi/4, 0, 0).control(1)\n",
    "qc.append(U_Bob2, [qin[1], qout[1]])\n",
    "qc.measure(qout[1], cout [0])\n",
    "\n",
    "qc.draw()"
   ]
  },
  {
   "cell_type": "code",
   "execution_count": 112,
   "metadata": {},
   "outputs": [
    {
     "name": "stdout",
     "output_type": "stream",
     "text": [
      "The number of games won :  881\n",
      "The number of games lost :  143\n"
     ]
    }
   ],
   "source": [
    "#Creating and running the job in the machine.\n",
    "backend = Aer.get_backend(\"qasm_simulator\")\n",
    "qjob = execute(qc ,backend=backend ,shots =1024)\n",
    "result = qjob.result ()\n",
    "stats = result.get_counts ()\n",
    "#Measure the winning percentage\n",
    "won = 0\n",
    "lost = 0\n",
    "for dat in stats:\n",
    "    if (int(dat [3])*int(dat [4]))==(( int(dat [0])+int(dat [1]))%2): # Check if the condition is satisfied.\n",
    "        won += stats[dat]\n",
    "    else:\n",
    "        lost += stats[dat]\n",
    "print(\"The number of games won : \", won)\n",
    "print(\"The number of games lost : \", lost)"
   ]
  }
 ],
 "metadata": {
  "kernelspec": {
   "display_name": "quantum",
   "language": "python",
   "name": "python3"
  },
  "language_info": {
   "codemirror_mode": {
    "name": "ipython",
    "version": 3
   },
   "file_extension": ".py",
   "mimetype": "text/x-python",
   "name": "python",
   "nbconvert_exporter": "python",
   "pygments_lexer": "ipython3",
   "version": "3.11.3"
  },
  "orig_nbformat": 4
 },
 "nbformat": 4,
 "nbformat_minor": 2
}
