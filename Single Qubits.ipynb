{
 "cells": [
  {
   "cell_type": "code",
   "execution_count": 1,
   "metadata": {},
   "outputs": [],
   "source": [
    "from dotenv import load_dotenv\n",
    "import os\n",
    "from qiskit import *\n",
    "from qiskit_ibm_provider import IBMProvider\n",
    "from math import *\n",
    "import qiskit\n"
   ]
  },
  {
   "attachments": {},
   "cell_type": "markdown",
   "metadata": {},
   "source": [
    "### Initial Setup for Qiskit, loading accounts and Providers"
   ]
  },
  {
   "cell_type": "code",
   "execution_count": 2,
   "metadata": {},
   "outputs": [
    {
     "data": {
      "text/plain": [
       "{'qiskit-terra': '0.24.0', 'qiskit-aer': '0.12.0', 'qiskit-ignis': None, 'qiskit-ibmq-provider': '0.20.2', 'qiskit': '0.43.0', 'qiskit-nature': None, 'qiskit-finance': None, 'qiskit-optimization': None, 'qiskit-machine-learning': None}"
      ]
     },
     "execution_count": 2,
     "metadata": {},
     "output_type": "execute_result"
    }
   ],
   "source": [
    "qiskit.__qiskit_version__"
   ]
  },
  {
   "cell_type": "code",
   "execution_count": 3,
   "metadata": {},
   "outputs": [],
   "source": [
    "load_dotenv()\n",
    "IBM_KEY = os.getenv(\"API_KEY\")"
   ]
  },
  {
   "cell_type": "code",
   "execution_count": 4,
   "metadata": {},
   "outputs": [],
   "source": [
    "provider = IBMProvider()"
   ]
  },
  {
   "attachments": {},
   "cell_type": "markdown",
   "metadata": {},
   "source": [
    "### Code for initializing a qubit"
   ]
  },
  {
   "cell_type": "code",
   "execution_count": 5,
   "metadata": {},
   "outputs": [
    {
     "data": {
      "text/plain": [
       "QuantumRegister(1, 'q')"
      ]
     },
     "execution_count": 5,
     "metadata": {},
     "output_type": "execute_result"
    }
   ],
   "source": [
    "# Initializing a single qubit to |0> and naming the qubit as 'q'\n",
    "qr = QuantumRegister(1, \"q\")\n",
    "qr"
   ]
  },
  {
   "cell_type": "code",
   "execution_count": 6,
   "metadata": {},
   "outputs": [
    {
     "data": {
      "text/plain": [
       "Qubit(QuantumRegister(1, 'q'), 0)"
      ]
     },
     "execution_count": 6,
     "metadata": {},
     "output_type": "execute_result"
    }
   ],
   "source": [
    "qr[0]"
   ]
  },
  {
   "cell_type": "code",
   "execution_count": 7,
   "metadata": {},
   "outputs": [
    {
     "data": {
      "text/html": [
       "<pre style=\"word-wrap: normal;white-space: pre;background: #fff0;line-height: 1.1;font-family: &quot;Courier New&quot;,Courier,monospace\">   ┌─────────────────────────────┐\n",
       "q: ┤ Initialize(0.70711,0.70711) ├\n",
       "   └─────────────────────────────┘</pre>"
      ],
      "text/plain": [
       "   ┌─────────────────────────────┐\n",
       "q: ┤ Initialize(0.70711,0.70711) ├\n",
       "   └─────────────────────────────┘"
      ]
     },
     "execution_count": 7,
     "metadata": {},
     "output_type": "execute_result"
    }
   ],
   "source": [
    "# Initializing a qubit to a desired state\n",
    "desired_state = [1/sqrt(2), 1/sqrt(2)]\n",
    "qr = QuantumRegister(1, \"q\")\n",
    "qc = QuantumCircuit(qr)\n",
    "qc.initialize(desired_state, qr[0])\n",
    "qc.draw()"
   ]
  },
  {
   "attachments": {},
   "cell_type": "markdown",
   "metadata": {},
   "source": [
    "#### Some basic gates are as follows\n",
    "\n",
    "$$X = \\begin{bmatrix} 0 & 1 \\\\ 1 & 0 \\end{bmatrix}$$\n",
    "$$Y = \\begin{bmatrix} 0 & -i \\\\ i & 0 \\end{bmatrix}$$\n",
    "$$Z = \\begin{bmatrix} 1 & 0 \\\\ 0 & -1 \\end{bmatrix}$$\n",
    "$$H = \\frac{1}{\\sqrt2}\\begin{bmatrix} 1 & 1 \\\\ 1 & -1 \\end{bmatrix}$$\n",
    "$$S = \\begin{bmatrix} 1 & 0 \\\\ 0 & i \\end{bmatrix}$$\n",
    "$$T = \\begin{bmatrix} 1 & 0 \\\\ 0 & e^{i\\pi /4} \\end{bmatrix}$$\n",
    "\n",
    "##### Some useful states that can also be used as basis since they are orthogonal are:\n",
    "\n",
    "$$| + \\rangle = \\frac{1}{\\sqrt2}(|0\\rangle + |1\\rangle)$$\n",
    "$$| - \\rangle = \\frac{1}{\\sqrt2}(|0\\rangle - |1\\rangle)$$"
   ]
  },
  {
   "attachments": {},
   "cell_type": "markdown",
   "metadata": {},
   "source": [
    "### A quantum circuit implementing gates H, Z, X\n",
    "\n",
    "This circuit uses H, Z, and X gates in that order to obtain the state $\\frac{1}{\\sqrt2}(|1\\rangle - |0\\rangle)$ from $|0\\rangle$\n",
    "\n",
    "First, by default, qr is initialized to $|0\\rangle$, and on application of H, we obtained $\\frac{1}{\\sqrt2}(|0\\rangle + |1\\rangle)$  \n",
    "Then application of Z gate makes qr evolve to $\\frac{1}{\\sqrt2}(|0\\rangle - |1\\rangle)$  \n",
    "Finally, X acts similar to the classical NOT gate and qr finally evolves to $\\frac{1}{\\sqrt2}(|1\\rangle - |0\\rangle)$"
   ]
  },
  {
   "cell_type": "code",
   "execution_count": 8,
   "metadata": {},
   "outputs": [
    {
     "data": {
      "text/html": [
       "<pre style=\"word-wrap: normal;white-space: pre;background: #fff0;line-height: 1.1;font-family: &quot;Courier New&quot;,Courier,monospace\">    ┌───┐┌───┐┌───┐\n",
       "q0: ┤ H ├┤ Z ├┤ X ├\n",
       "    └───┘└───┘└───┘</pre>"
      ],
      "text/plain": [
       "    ┌───┐┌───┐┌───┐\n",
       "q0: ┤ H ├┤ Z ├┤ X ├\n",
       "    └───┘└───┘└───┘"
      ]
     },
     "execution_count": 8,
     "metadata": {},
     "output_type": "execute_result"
    }
   ],
   "source": [
    "qr = QuantumRegister(1)\n",
    "qc = QuantumCircuit(qr)\n",
    "qc.h(qr)\n",
    "qc.z(qr)\n",
    "qc.x(qr)\n",
    "qc.draw()"
   ]
  },
  {
   "attachments": {},
   "cell_type": "markdown",
   "metadata": {},
   "source": [
    "### Generalization of single qubit gates\n",
    "\n",
    "$$U_3(\\theta, \\phi, \\lambda) = \\begin{bmatrix} \\cos \\frac{\\theta}{2} & -e^{i\\lambda}\\sin \\frac{\\theta}{2} \\\\[6pt] e^{i\\phi}\\sin \\frac{\\theta}{2} & e^{i(\\phi + \\lambda)\\cos \\frac{\\theta}{2}} \\end{bmatrix}$$  \n",
    "We can express X gate as $U_3(\\pi, 0, \\pi)$, H gate as $U_3(\\frac{\\pi}{2}, 0, \\pi)$\n",
    "\n",
    "#### Other common parametric gates $U_1$ and $U_2$ are as follows:\n",
    "$$U_1(\\lambda) = \\begin{bmatrix} 1 & 0 \\\\[6pt] 0 & e^{i\\lambda} \\end{bmatrix} = U_3(0, 0, \\lambda)$$\n",
    "\n",
    "$$U_2(\\phi, \\lambda) = \\frac{1}{\\sqrt2}\\begin{bmatrix} 1 & -e^{i\\lambda} \\\\[6pt] e^{i\\phi} & e^{i(\\phi + \\lambda)} \\end{bmatrix} = U_3(\\frac{\\pi}{2}, \\phi, \\lambda)$$\n"
   ]
  },
  {
   "attachments": {},
   "cell_type": "markdown",
   "metadata": {},
   "source": [
    "### Evolving to the same state as above using U1, U2, U3 gates"
   ]
  },
  {
   "cell_type": "code",
   "execution_count": 9,
   "metadata": {},
   "outputs": [
    {
     "data": {
      "text/plain": [
       "<qiskit.circuit.instructionset.InstructionSet at 0x1e847e0d480>"
      ]
     },
     "execution_count": 9,
     "metadata": {},
     "output_type": "execute_result"
    }
   ],
   "source": [
    "qr = QuantumRegister(1)\n",
    "qc = QuantumCircuit(qr)\n",
    "qc.u(pi/2, 0, pi, qr) #u2 gate\n",
    "qc.u(0, 0, pi, qr) #u1 gate\n",
    "qc.u(pi, 0, pi, qr) #u3 gate"
   ]
  },
  {
   "cell_type": "code",
   "execution_count": 10,
   "metadata": {},
   "outputs": [
    {
     "name": "stdout",
     "output_type": "stream",
     "text": [
      "Statevector([-0.70710678+8.65956056e-17j,  0.70710678+0.00000000e+00j],\n",
      "            dims=(2,))\n"
     ]
    }
   ],
   "source": [
    "backend = Aer.get_backend('statevector_simulator')\n",
    "qjob = execute(qc, backend)\n",
    "out_vector = qjob.result().get_statevector()\n",
    "print(out_vector)"
   ]
  },
  {
   "attachments": {},
   "cell_type": "markdown",
   "metadata": {},
   "source": [
    "### Single Qubit Measurement\n",
    "\n",
    "We flip the qubit qr and measure it 100 times. Since initial state of qr was $|0\\rangle$, flipping it makes its state $|1\\rangle$, so measuring it 100 times should give us the state $|1\\rangle$ 100 times.  \n",
    "This measurement is performed in computational basis, and qubit will collapse to one of $|0\\rangle$ or $|1\\rangle$ on measurement"
   ]
  },
  {
   "cell_type": "code",
   "execution_count": 11,
   "metadata": {},
   "outputs": [
    {
     "name": "stdout",
     "output_type": "stream",
     "text": [
      "{'1': 100}\n"
     ]
    }
   ],
   "source": [
    "# Creating Quantum Register, Classical Register, and Quantum Circuit\n",
    "qr = QuantumRegister(1)\n",
    "cr = ClassicalRegister(1)  # Helps in storing the output of the qubit measurement\n",
    "qc = QuantumCircuit(qr, cr)\n",
    "\n",
    "# Flipping qubit qr and measuring it\n",
    "qc.x(qr)\n",
    "qc.measure(qr, cr) # Measure the qubit qr and store the ouput in cr\n",
    "\n",
    "# Executing on backend\n",
    "backend = Aer.get_backend('qasm_simulator')\n",
    "qjob = execute(qc, backend, shots=100) # shots specifies the number of times the circuit (including measurement) will be repeated\n",
    "# Resulting measurement statistic will be stored in result object\n",
    "# This mimics measuring 100 qubits in computational basis\n",
    "measurement = qjob.result().get_counts()\n",
    "print(measurement)"
   ]
  },
  {
   "attachments": {},
   "cell_type": "markdown",
   "metadata": {},
   "source": [
    "#### Measuring in Hadamard Basis\n",
    "\n",
    "We can measure the state of the qubit in any orthogonal basis. If we want to know whether the output is $|+\\rangle$ or $|-\\rangle$, then we have to measure in the Hadamard Basis: $\\{ |+\\rangle, |-\\rangle \\}$  \n",
    "Any state $|\\phi \\rangle = \\alpha |0\\rangle + \\beta |1\\rangle$ can be represented in Hadamard basis using the following:\n",
    "$$|\\phi \\rangle = \\frac{(\\alpha + \\beta)}{\\sqrt2} |+\\rangle + \\frac{(\\alpha - \\beta)}{\\sqrt2} |-\\rangle$$\n",
    "\n",
    "Now, if we apply $H^{\\dagger}$ on $|\\phi\\rangle$, we have:\n",
    "$$H^{\\dagger} |\\phi \\rangle = \\frac{(\\alpha + \\beta)}{\\sqrt2} |0\\rangle + \\frac{(\\alpha - \\beta)}{\\sqrt2} |1\\rangle$$\n",
    "i.e., $H^{\\dagger}$ maps $|+\\rangle$ to $|0\\rangle$ and $|-\\rangle$ to $|1\\rangle$\n",
    "\n",
    "So, measuring $H^\\dagger |\\phi \\rangle$ in computational basis is the same as measuring $|\\phi \\rangle$ in Hadamard Basis  \n",
    "This is called Transformation of Basis\n",
    "\n",
    "Note: $H = H^\\dagger$"
   ]
  },
  {
   "cell_type": "code",
   "execution_count": 17,
   "metadata": {},
   "outputs": [
    {
     "name": "stdout",
     "output_type": "stream",
     "text": [
      "{'1': 488, '0': 536}\n"
     ]
    }
   ],
   "source": [
    "qr = QuantumRegister(1)\n",
    "cr = ClassicalRegister(1)\n",
    "qc = QuantumCircuit(qr, cr)\n",
    "\n",
    "qc.x(qr)\n",
    "# Now we need to measure whether output is one of the Hadamard Basis\n",
    "# So first apply H^dagger = H on qr to transform to computational basis\n",
    "# In output, 0 corresponds to + and 1 corresponds to -\n",
    "\n",
    "qc.h(qr)\n",
    "qc.measure(qr, cr)\n",
    "\n",
    "backend = Aer.get_backend('qasm_simulator')\n",
    "qjob = execute(qc, backend) # Default shots = 1024\n",
    "counts = qjob.result().get_counts()\n",
    "print(counts)\n"
   ]
  },
  {
   "attachments": {},
   "cell_type": "markdown",
   "metadata": {},
   "source": [
    "Slight deviation due to randomness, otherwise should have been prob = $\\frac{1}{2}$ for each exactly  \n",
    "Note: In output, $|0\\rangle$ corresponds to $|+\\rangle$ and $|1\\rangle$ corresponds to $|-\\rangle$"
   ]
  },
  {
   "cell_type": "code",
   "execution_count": null,
   "metadata": {},
   "outputs": [],
   "source": []
  }
 ],
 "metadata": {
  "kernelspec": {
   "display_name": "quantum",
   "language": "python",
   "name": "python3"
  },
  "language_info": {
   "codemirror_mode": {
    "name": "ipython",
    "version": 3
   },
   "file_extension": ".py",
   "mimetype": "text/x-python",
   "name": "python",
   "nbconvert_exporter": "python",
   "pygments_lexer": "ipython3",
   "version": "3.11.3"
  },
  "orig_nbformat": 4
 },
 "nbformat": 4,
 "nbformat_minor": 2
}
