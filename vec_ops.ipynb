{
 "cells": [
  {
   "cell_type": "code",
   "execution_count": 1,
   "metadata": {},
   "outputs": [],
   "source": [
    "import numpy as np"
   ]
  },
  {
   "cell_type": "code",
   "execution_count": 2,
   "metadata": {},
   "outputs": [
    {
     "name": "stdout",
     "output_type": "stream",
     "text": [
      "2.732050807568877\n"
     ]
    }
   ],
   "source": [
    "v1 = np.array([[np.sqrt(3)], [1]])\n",
    "v2 = np.array([[1], [1]])\n",
    "inner_result = np.vdot(v1, v2)\n",
    "print(inner_result)"
   ]
  },
  {
   "cell_type": "code",
   "execution_count": 3,
   "metadata": {},
   "outputs": [
    {
     "data": {
      "text/plain": [
       "(2, 2)"
      ]
     },
     "execution_count": 3,
     "metadata": {},
     "output_type": "execute_result"
    }
   ],
   "source": [
    "a = np.array([[1, 4], [5, 6]])\n",
    "a.shape"
   ]
  },
  {
   "cell_type": "code",
   "execution_count": 4,
   "metadata": {},
   "outputs": [
    {
     "name": "stdout",
     "output_type": "stream",
     "text": [
      "-3j\n"
     ]
    }
   ],
   "source": [
    "v1=np.array([[1 + 2j],[1]])\n",
    "v2=np.array([[1 - 1j],[1]])\n",
    "inner_result=np.vdot(v1,v2)\n",
    "print(inner_result)"
   ]
  },
  {
   "cell_type": "code",
   "execution_count": 5,
   "metadata": {},
   "outputs": [
    {
     "name": "stdout",
     "output_type": "stream",
     "text": [
      "[[2.+0.j]\n",
      " [1.+1.j]]\n",
      "[[0.81649658+0.j        ]\n",
      " [0.40824829+0.40824829j]]\n"
     ]
    }
   ],
   "source": [
    "import numpy as np\n",
    "v1=np.array([[2],[1+1j]])\n",
    "print(v1)\n",
    "# from sklearn.preprocessing import normalize\n",
    "v2 = v1/np.linalg.norm(v1)\n",
    "print(v2)"
   ]
  },
  {
   "cell_type": "code",
   "execution_count": 6,
   "metadata": {},
   "outputs": [
    {
     "data": {
      "text/plain": [
       "2.449489742783178"
      ]
     },
     "execution_count": 6,
     "metadata": {},
     "output_type": "execute_result"
    }
   ],
   "source": [
    "np.linalg.norm(v1)"
   ]
  },
  {
   "cell_type": "code",
   "execution_count": 7,
   "metadata": {},
   "outputs": [
    {
     "name": "stdout",
     "output_type": "stream",
     "text": [
      "[[0 1]\n",
      " [1 0]]\n",
      "[ 1. -1.]\n",
      "[[ 0.70710678 -0.70710678]\n",
      " [ 0.70710678  0.70710678]]\n"
     ]
    }
   ],
   "source": [
    "sigmax=np.array([[0,1],[1,0]])\n",
    "print(sigmax)\n",
    "eigenvalues, eigenvectors = np.linalg.eig(sigmax)\n",
    "print(eigenvalues)\n",
    "print(eigenvectors)"
   ]
  },
  {
   "cell_type": "code",
   "execution_count": 8,
   "metadata": {},
   "outputs": [
    {
     "data": {
      "text/plain": [
       "array([[0.5]])"
      ]
     },
     "execution_count": 8,
     "metadata": {},
     "output_type": "execute_result"
    }
   ],
   "source": [
    "plus = np.array([[1/np.sqrt(2)], [1/np.sqrt(2)]])\n",
    "eigenvec0 = np.array([[1], [0]])\n",
    "np.dot(plus.T,np.dot(np.dot(eigenvec0, eigenvec0.T), plus))"
   ]
  },
  {
   "cell_type": "code",
   "execution_count": 27,
   "metadata": {},
   "outputs": [
    {
     "data": {
      "text/plain": [
       "array([[0.70710678+0.j        ],\n",
       "       [0.70710678+0.j        ],\n",
       "       [0.        +0.70710678j],\n",
       "       [0.        +0.70710678j]])"
      ]
     },
     "execution_count": 27,
     "metadata": {},
     "output_type": "execute_result"
    }
   ],
   "source": [
    "f = np.array([[0], [1]])\n",
    "e = np.array([[1], [0]])\n",
    "g = np.array([[1/np.sqrt(2)], [1j/np.sqrt(2)]])\n",
    "\n",
    "np.kron(g, f + e)"
   ]
  },
  {
   "cell_type": "code",
   "execution_count": 29,
   "metadata": {},
   "outputs": [
    {
     "data": {
      "text/plain": [
       "array([[[[0.        +0.j        ],\n",
       "         [0.        +0.j        ]]],\n",
       "\n",
       "\n",
       "       [[[0.70710678+0.j        ],\n",
       "         [0.        +0.70710678j]]]])"
      ]
     },
     "execution_count": 29,
     "metadata": {},
     "output_type": "execute_result"
    }
   ],
   "source": [
    "np.tensordot(f, g, axes=0)"
   ]
  },
  {
   "cell_type": "code",
   "execution_count": 20,
   "metadata": {},
   "outputs": [
    {
     "data": {
      "text/plain": [
       "array([[ True],\n",
       "       [ True],\n",
       "       [ True],\n",
       "       [ True]])"
      ]
     },
     "execution_count": 20,
     "metadata": {},
     "output_type": "execute_result"
    }
   ],
   "source": [
    "np.kron(g, f) + np.kron(g, e) == np.kron(g, f + e)"
   ]
  },
  {
   "cell_type": "code",
   "execution_count": 25,
   "metadata": {},
   "outputs": [
    {
     "data": {
      "text/plain": [
       "(array([[-1.+1.j]]), array([[-1.+1.j]]))"
      ]
     },
     "execution_count": 25,
     "metadata": {},
     "output_type": "execute_result"
    }
   ],
   "source": [
    "f = np.array([[1], [1]])\n",
    "e = np.array([[0], [1]])\n",
    "g = np.array([[1j], [1j]])\n",
    "k = np.array([[1j], [1]])\n",
    "\n",
    "\n",
    "# Tensor product first and then inner in higher space\n",
    "scalar1 = np.dot(np.kron(f, g).T, np.kron(e, k))\n",
    "\n",
    "# Inner product multiply and sum\n",
    "\n",
    "scalar2 = np.dot(f.T, e) * np.dot(g.T, k)\n",
    "\n",
    "scalar1, scalar2"
   ]
  }
 ],
 "metadata": {
  "kernelspec": {
   "display_name": "quantum",
   "language": "python",
   "name": "python3"
  },
  "language_info": {
   "codemirror_mode": {
    "name": "ipython",
    "version": 3
   },
   "file_extension": ".py",
   "mimetype": "text/x-python",
   "name": "python",
   "nbconvert_exporter": "python",
   "pygments_lexer": "ipython3",
   "version": "3.11.3"
  },
  "orig_nbformat": 4
 },
 "nbformat": 4,
 "nbformat_minor": 2
}
