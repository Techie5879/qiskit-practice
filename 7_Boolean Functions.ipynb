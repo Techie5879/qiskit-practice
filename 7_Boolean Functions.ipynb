{
 "cells": [
  {
   "cell_type": "code",
   "execution_count": null,
   "metadata": {},
   "outputs": [],
   "source": [
    "from dotenv import load_dotenv\n",
    "import os\n",
    "from qiskit import *\n",
    "from qiskit_ibm_provider import IBMProvider\n",
    "from math import *\n",
    "import qiskit\n",
    "from qiskit.circuit.library.standard_gates import *\n",
    "load_dotenv()\n",
    "IBM_KEY = os.getenv(\"API_KEY\")\n",
    "provider = IBMProvider()"
   ]
  },
  {
   "attachments": {},
   "cell_type": "markdown",
   "metadata": {},
   "source": [
    "## Boolean Function Quantum Implementation\n",
    "Boolean functions aren't reversible but oracle functions are. Oracle Function can be defined for $F(x)$ as:\n",
    "$$U_F(x_1, x_2, \\cdots, x_n, b) = (x_1, x_2, \\cdots, x_n, b \\oplus F(x))$$\n",
    "This oracle function is reversible and thus quantum gates which support reversible operations can be used to implement this."
   ]
  },
  {
   "cell_type": "code",
   "execution_count": 1,
   "metadata": {},
   "outputs": [],
   "source": [
    "def oracle():\n",
    "    circ = QuantumCircuit(3)\n",
    "    circ.ccx(0, 1, 2)\n",
    "    return circ"
   ]
  }
 ],
 "metadata": {
  "kernelspec": {
   "display_name": "quantum",
   "language": "python",
   "name": "python3"
  },
  "language_info": {
   "codemirror_mode": {
    "name": "ipython",
    "version": 3
   },
   "file_extension": ".py",
   "mimetype": "text/x-python",
   "name": "python",
   "nbconvert_exporter": "python",
   "pygments_lexer": "ipython3",
   "version": "3.11.3"
  },
  "orig_nbformat": 4
 },
 "nbformat": 4,
 "nbformat_minor": 2
}
