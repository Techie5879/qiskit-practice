{
 "cells": [
  {
   "cell_type": "code",
   "execution_count": 1,
   "metadata": {},
   "outputs": [],
   "source": [
    "from dotenv import load_dotenv\n",
    "import os\n",
    "from qiskit import *\n",
    "from qiskit_ibm_provider import IBMProvider\n",
    "from math import *\n",
    "import qiskit\n",
    "from qiskit.circuit.library.standard_gates import *\n",
    "from qiskit_ibm_provider import least_busy\n",
    "load_dotenv()\n",
    "IBM_KEY = os.getenv(\"API_KEY\")\n",
    "provider = IBMProvider()"
   ]
  },
  {
   "attachments": {},
   "cell_type": "markdown",
   "metadata": {},
   "source": [
    "## Boolean Function Quantum Implementation\n",
    "Boolean functions aren't reversible but oracle functions are. Oracle Function can be defined for $F(x)$ as:\n",
    "$$U_F(x_1, x_2, \\cdots, x_n, b) = (x_1, x_2, \\cdots, x_n, b \\oplus F(x))$$\n",
    "This oracle function is reversible and thus quantum gates which support reversible operations can be used to implement this."
   ]
  },
  {
   "cell_type": "code",
   "execution_count": 2,
   "metadata": {},
   "outputs": [],
   "source": [
    "def oracle():\n",
    "    circ = QuantumCircuit(3)\n",
    "    circ.ccx(0, 1, 2)\n",
    "    return circ"
   ]
  },
  {
   "attachments": {},
   "cell_type": "markdown",
   "metadata": {},
   "source": [
    "## Deutsch-Jozsa Algorithm Implementation\n",
    "- Extension of the Deutsch algorithm to n-bit Boolean functions\n",
    "\n",
    "AIM: Find if the function $f(x)$ is balanced or constant given the promise that $f(x)$ is either constant or balanced. This algorithm can perform this classification in just a single query to the $U_f$ instead of the worst case $\\frac{2^n}{2} + 1$ queries in the classical setting\n",
    "\n",
    "Following is the implementation of the Deutsch-Jozsa Algorithm for $f(x) = x_2 \\oplus x_3 \\oplus x_4$"
   ]
  },
  {
   "cell_type": "code",
   "execution_count": 3,
   "metadata": {},
   "outputs": [
    {
     "data": {
      "text/html": [
       "<pre style=\"word-wrap: normal;white-space: pre;background: #fff0;line-height: 1.1;font-family: &quot;Courier New&quot;,Courier,monospace\">                    \n",
       "q_0: ───────────────\n",
       "                    \n",
       "q_1: ──■────────────\n",
       "       │            \n",
       "q_2: ──┼────■───────\n",
       "       │    │       \n",
       "q_3: ──┼────┼────■──\n",
       "     ┌─┴─┐┌─┴─┐┌─┴─┐\n",
       "q_4: ┤ X ├┤ X ├┤ X ├\n",
       "     └───┘└───┘└───┘</pre>"
      ],
      "text/plain": [
       "                    \n",
       "q_0: ───────────────\n",
       "                    \n",
       "q_1: ──■────────────\n",
       "       │            \n",
       "q_2: ──┼────■───────\n",
       "       │    │       \n",
       "q_3: ──┼────┼────■──\n",
       "     ┌─┴─┐┌─┴─┐┌─┴─┐\n",
       "q_4: ┤ X ├┤ X ├┤ X ├\n",
       "     └───┘└───┘└───┘"
      ]
     },
     "execution_count": 3,
     "metadata": {},
     "output_type": "execute_result"
    }
   ],
   "source": [
    "# Building an oracle function for f(x)\n",
    "orcl = QuantumCircuit(5)\n",
    "orcl.cx(1, 4)\n",
    "orcl.cx(2, 4)\n",
    "orcl.cx(3, 4)\n",
    "oracle = orcl.to_instruction()\n",
    "orcl.draw()"
   ]
  },
  {
   "cell_type": "code",
   "execution_count": 4,
   "metadata": {},
   "outputs": [],
   "source": [
    "# Quantum register, Classical register, Quantum Circuit creation\n",
    "q = QuantumRegister(5)\n",
    "c = ClassicalRegister(4)\n",
    "qc = QuantumCircuit(q, c)"
   ]
  },
  {
   "cell_type": "code",
   "execution_count": 5,
   "metadata": {},
   "outputs": [
    {
     "name": "stdout",
     "output_type": "stream",
     "text": [
      "{'0111': 1}\n"
     ]
    }
   ],
   "source": [
    "qc.x(4)\n",
    "qc.h(range(5))\n",
    "# Append the circuit of the oracle on the qubit register q to qc\n",
    "qc.append(oracle, q)\n",
    "qc.h(range(5))\n",
    "for i in range(4):\n",
    "    qc.measure(q[i], c[3 - i])\n",
    "\n",
    "backend = Aer.get_backend('qasm_simulator')\n",
    "qjob = execute(qc, backend, shots=1)\n",
    "counts = qjob.result().get_counts()\n",
    "print(counts)\n",
    "# Output is not the state |0000>, implying f(x) is balanced"
   ]
  },
  {
   "attachments": {},
   "cell_type": "markdown",
   "metadata": {},
   "source": [
    "## Bernstein-Vazirani Algorithm Implementation\n",
    "AIM: Given the function $f(x)$ and given the promise that it is linear, i.e., $f(x) = a\\cdot x$, the objective is to find $a$\n",
    "\n",
    "The quantum circuit is same as that for the Deutsch-Jozsa algorithm.  \n",
    "Following is the implementation of the Bernstein-Vazirani Algorithm for $f(x) = x_1 \\oplus x_2 \\oplus x_3 \\oplus x_4$"
   ]
  },
  {
   "cell_type": "code",
   "execution_count": 6,
   "metadata": {},
   "outputs": [],
   "source": [
    "# Building an oracle for the function\n",
    "orcl = QuantumCircuit(5)\n",
    "orcl.cx(0, 4)\n",
    "orcl.cx(1, 4)\n",
    "orcl.cx(2, 4)\n",
    "orcl.cx(3, 4)\n",
    "oracle = orcl.to_instruction()"
   ]
  },
  {
   "cell_type": "code",
   "execution_count": 7,
   "metadata": {},
   "outputs": [],
   "source": [
    "# Creating a quauntum register, classical register and a quantum circuit\n",
    "\n",
    "q = QuantumRegister(5)\n",
    "c = ClassicalRegister(4)\n",
    "qc = QuantumCircuit(q, c)"
   ]
  },
  {
   "cell_type": "code",
   "execution_count": 8,
   "metadata": {},
   "outputs": [
    {
     "name": "stdout",
     "output_type": "stream",
     "text": [
      "{'1111': 1}\n"
     ]
    }
   ],
   "source": [
    "# Deutsch-Jozsa algorithm\n",
    "qc.x(4)\n",
    "qc.h(range(5))\n",
    "qc.append(oracle, q)\n",
    "qc.h(range(5))\n",
    "for i in range(4):\n",
    "    qc.measure(q[i], c[3 - i])\n",
    "\n",
    "backend = Aer.get_backend('qasm_simulator')\n",
    "qjob = execute(qc, backend, shots=1)\n",
    "counts = qjob.result().get_counts()\n",
    "print(counts)\n",
    "# From the output, we can see a = 1111, i.e., f(x) is a linear function of the form f(x) = 1111.x"
   ]
  },
  {
   "attachments": {},
   "cell_type": "markdown",
   "metadata": {},
   "source": [
    "### Computing Walsh Spectrum in a Classical Environment"
   ]
  },
  {
   "cell_type": "code",
   "execution_count": 9,
   "metadata": {},
   "outputs": [],
   "source": [
    "# Consider the 4-bit boolean function, f(x) = x1.x2 xor x3 xor x4\n",
    "def func(x):\n",
    "    x_arr = [0]*4\n",
    "    for i in range(4):\n",
    "        x_arr[3 - i] = x % 2\n",
    "        x = (x - x_arr[3 - i]) / 2\n",
    "    return ((x_arr[0]*x_arr[1]) + x_arr[2] + x_arr[3]) % 2\n",
    "\n",
    "\n",
    "# Function that outputs the dot product of bit strings x and y\n",
    "\n",
    "def dot(x, y):\n",
    "    x_arr = [0]*4\n",
    "    y_arr = [0]*4\n",
    "    dot = 0\n",
    "    for i in range(4):\n",
    "        x_arr[3 - i] = x % 2\n",
    "        x = (x - x_arr[3 - i]) / 2\n",
    "        y_arr[3 - i] = y % 2\n",
    "        y = (y - y_arr[3 - i]) / 2\n",
    "        dot = dot + (x_arr[3 - i]*y_arr[3 - i])\n",
    "    return dot % 2"
   ]
  },
  {
   "cell_type": "code",
   "execution_count": 10,
   "metadata": {},
   "outputs": [
    {
     "name": "stdout",
     "output_type": "stream",
     "text": [
      "0000 : 0.0\n",
      "0001 : 0.0\n",
      "0010 : 0.0\n",
      "0011 : 8.0\n",
      "0100 : 0.0\n",
      "0101 : 0.0\n",
      "0110 : 0.0\n",
      "0111 : 8.0\n",
      "1000 : 0.0\n",
      "1001 : 0.0\n",
      "1010 : 0.0\n",
      "1011 : 8.0\n",
      "1100 : 0.0\n",
      "1101 : 0.0\n",
      "1110 : 0.0\n",
      "1111 : -8.0\n"
     ]
    }
   ],
   "source": [
    "# Calculating Walsh coeffs of the above function for all points\n",
    "w_f = [0]*16\n",
    "for y in range (16):\n",
    "    for x in range (16):\n",
    "        w_f[y] = w_f[y] + ((-1)** func(x))*(( -1)**dot(x, y))\n",
    "\n",
    "\n",
    "for i in range (16):\n",
    "    print(bin(i)[2:]. zfill (4), \":\", w_f[i])"
   ]
  },
  {
   "attachments": {},
   "cell_type": "markdown",
   "metadata": {},
   "source": [
    "From the above, we can infer that the square of the normalized Walsh coefficient at points y $\\in \\{0011, 0111, 1011, 1111\\}$ is $\\frac{64}{256}=0.25$"
   ]
  },
  {
   "cell_type": "code",
   "execution_count": 11,
   "metadata": {},
   "outputs": [
    {
     "name": "stdout",
     "output_type": "stream",
     "text": [
      "Estimate of Walsh spectrum using 100 shots: \n",
      " {'0101': 0.26, '1101': 0.27, '1001': 0.26, '0001': 0.21} \n",
      "\n",
      "Estimate of Walsh spectrum using 1000 shots: \n",
      " {'1101': 0.263, '0001': 0.252, '1001': 0.23, '0101': 0.255} \n",
      "\n",
      "Estimate of Walsh spectrum using 8000 shots: \n",
      " {'0001': 0.249125, '1001': 0.248, '1101': 0.254, '0101': 0.248875} \n",
      "\n"
     ]
    }
   ],
   "source": [
    "# Deutsch-Jozsa algorithm for estimating the Walsh Spectrum of the function f(x)\n",
    "\n",
    "# Orale function for f(x) = x1x2 xor x3 xor x4\n",
    "orcl = QuantumCircuit(5)\n",
    "orcl.ccx(0, 1, 4)\n",
    "orcl.cx(3, 4)\n",
    "oracle = orcl.to_instruction()\n",
    "\n",
    "q = QuantumRegister(5)\n",
    "c = ClassicalRegister(4)\n",
    "qc = QuantumCircuit(q, c)\n",
    "\n",
    "# Implementing Deutsch-Jozsa algorithm\n",
    "qc.x(q[4])\n",
    "for i in range(5):\n",
    "    qc.h(q[i])\n",
    "qc.append(oracle, q)\n",
    "for i in range(5):\n",
    "    qc.h(q[i])\n",
    "for i in range(4):\n",
    "    qc.measure(q[3 - i], c[i])\n",
    "\n",
    "\n",
    "# Executing backend in simulator\n",
    "backend = Aer.get_backend('qasm_simulator')\n",
    "qjob_sim_100 = execute(qc, backend, shots=100)\n",
    "counts_sim_100 = qjob_sim_100.result().get_counts()\n",
    "qjob_sim_1000 = execute(qc, backend, shots=1000)\n",
    "counts_sim_1000 = qjob_sim_1000.result().get_counts()\n",
    "qjob_sim_8000 = execute(qc, backend, shots=8000)\n",
    "counts_sim_8000 = qjob_sim_8000.result().get_counts()\n",
    "\n",
    "for count1, count2, count3 in zip(counts_sim_100, counts_sim_1000, counts_sim_8000):\n",
    "    counts_sim_100[count1] /= 100\n",
    "    counts_sim_1000[count2] /= 1000\n",
    "    counts_sim_8000[count3] /= 8000\n",
    "\n",
    "print(\"Estimate of Walsh spectrum using 100 shots: \\n\", counts_sim_100, \"\\n\")\n",
    "print(\"Estimate of Walsh spectrum using 1000 shots: \\n\", counts_sim_1000, \"\\n\")\n",
    "print(\"Estimate of Walsh spectrum using 8000 shots: \\n\", counts_sim_8000, \"\\n\")\n",
    "# For points not in the returned set of values, those should be inferred as 0"
   ]
  },
  {
   "attachments": {},
   "cell_type": "markdown",
   "metadata": {},
   "source": [
    "Shots = 100 is a very rough estimate, as we get values like 0.28, 0.23 etc. Estimates using 1000 and 8000 are better, 8000 faring the best  \n",
    "Now, implementing the circuit on an actual quantum computer, 5bit qubit ibmq_belem"
   ]
  },
  {
   "cell_type": "code",
   "execution_count": 12,
   "metadata": {},
   "outputs": [
    {
     "data": {
      "text/plain": [
       "[<IBMBackend('ibmq_qasm_simulator')>,\n",
       " <IBMBackend('ibmq_lima')>,\n",
       " <IBMBackend('ibmq_belem')>,\n",
       " <IBMBackend('simulator_extended_stabilizer')>,\n",
       " <IBMBackend('simulator_stabilizer')>,\n",
       " <IBMBackend('ibmq_manila')>,\n",
       " <IBMBackend('ibm_nairobi')>,\n",
       " <IBMBackend('ibm_lagos')>,\n",
       " <IBMBackend('ibmq_jakarta')>,\n",
       " <IBMBackend('ibmq_quito')>,\n",
       " <IBMBackend('simulator_mps')>,\n",
       " <IBMBackend('simulator_statevector')>,\n",
       " <IBMBackend('ibm_perth')>]"
      ]
     },
     "execution_count": 12,
     "metadata": {},
     "output_type": "execute_result"
    }
   ],
   "source": [
    "provider.backends()"
   ]
  },
  {
   "cell_type": "code",
   "execution_count": 31,
   "metadata": {},
   "outputs": [
    {
     "data": {
      "text/plain": [
       "{'backend_name': 'ibmq_belem',\n",
       " 'backend_version': '',\n",
       " 'operational': True,\n",
       " 'pending_jobs': 39,\n",
       " 'status_msg': 'active'}"
      ]
     },
     "execution_count": 31,
     "metadata": {},
     "output_type": "execute_result"
    }
   ],
   "source": [
    "backend = provider.get_backend('ibmq_belem')\n",
    "backend.status().to_dict()\n"
   ]
  },
  {
   "cell_type": "code",
   "execution_count": 32,
   "metadata": {},
   "outputs": [
    {
     "name": "stdout",
     "output_type": "stream",
     "text": [
      "Estimate of Walsh spectrum using 100 shots: \n",
      " {'0000': 0.035, '0001': 0.235, '0010': 0.001, '0011': 0.005, '0100': 0.022, '0101': 0.167, '0111': 0.002, '1000': 0.028, '1001': 0.226, '1010': 0.002, '1011': 0.002, '1100': 0.022, '1101': 0.249, '1111': 0.004} \n",
      "\n"
     ]
    }
   ],
   "source": [
    "# executing ckt on ibmxq2\n",
    "qjob_real = execute(qc, backend, shots=1000)\n",
    "counts_real = qjob_real.result().get_counts()\n",
    "for count in counts_real:\n",
    "    counts_real[count] /= 1000\n",
    "\n",
    "print(\"Estimate of Walsh spectrum using 100 shots: \\n\", counts_real, \"\\n\")"
   ]
  },
  {
   "cell_type": "code",
   "execution_count": 24,
   "metadata": {},
   "outputs": [
    {
     "data": {
      "image/png": "[encoded data removed]",
      "text/plain": [
       "<Figure size 700x500 with 1 Axes>"
      ]
     },
     "execution_count": 24,
     "metadata": {},
     "output_type": "execute_result"
    }
   ],
   "source": [
    "from qiskit.tools.visualization import plot_histogram\n",
    "plot_histogram([counts_sim_1000, counts_real], legend =[\"Simulator\", \"Real\"])"
   ]
  },
  {
   "attachments": {},
   "cell_type": "markdown",
   "metadata": {},
   "source": [
    "These errors are mostly attributed to the de-coherence of the quantum system and the undesired interactions with the environment"
   ]
  }
 ],
 "metadata": {
  "kernelspec": {
   "display_name": "quantum",
   "language": "python",
   "name": "python3"
  },
  "language_info": {
   "codemirror_mode": {
    "name": "ipython",
    "version": 3
   },
   "file_extension": ".py",
   "mimetype": "text/x-python",
   "name": "python",
   "nbconvert_exporter": "python",
   "pygments_lexer": "ipython3",
   "version": "3.11.3"
  },
  "orig_nbformat": 4
 },
 "nbformat": 4,
 "nbformat_minor": 2
}
