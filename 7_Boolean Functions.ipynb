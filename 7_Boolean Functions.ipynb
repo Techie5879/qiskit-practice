{
 "cells": [
  {
   "cell_type": "code",
   "execution_count": 1,
   "metadata": {},
   "outputs": [],
   "source": [
    "from dotenv import load_dotenv\n",
    "import os\n",
    "from qiskit import *\n",
    "from qiskit_ibm_provider import IBMProvider\n",
    "from math import *\n",
    "import qiskit\n",
    "from qiskit.circuit.library.standard_gates import *\n",
    "load_dotenv()\n",
    "IBM_KEY = os.getenv(\"API_KEY\")\n",
    "provider = IBMProvider()"
   ]
  },
  {
   "attachments": {},
   "cell_type": "markdown",
   "metadata": {},
   "source": [
    "## Boolean Function Quantum Implementation\n",
    "Boolean functions aren't reversible but oracle functions are. Oracle Function can be defined for $F(x)$ as:\n",
    "$$U_F(x_1, x_2, \\cdots, x_n, b) = (x_1, x_2, \\cdots, x_n, b \\oplus F(x))$$\n",
    "This oracle function is reversible and thus quantum gates which support reversible operations can be used to implement this."
   ]
  },
  {
   "cell_type": "code",
   "execution_count": 2,
   "metadata": {},
   "outputs": [],
   "source": [
    "def oracle():\n",
    "    circ = QuantumCircuit(3)\n",
    "    circ.ccx(0, 1, 2)\n",
    "    return circ"
   ]
  },
  {
   "attachments": {},
   "cell_type": "markdown",
   "metadata": {},
   "source": [
    "## Deutsch-Jozsa Algorithm Implementation\n",
    "- Extension of the Deutsch algorithm to n-bit Boolean functions\n",
    "\n",
    "AIM: Find if the function $f(x)$ is balanced or constant given the promise that $f(x)$ is either constant or balanced. This algorithm can perform this classification in just a single query to the $U_f$ instead of the worst case $\\frac{2^n}{2} + 1$ queries in the classical setting\n",
    "\n",
    "Following is the implementation of the Deutsch-Jozsa Algorithm for $f(x) = x_2 \\oplus x_3 \\oplus x_4$"
   ]
  },
  {
   "cell_type": "code",
   "execution_count": 3,
   "metadata": {},
   "outputs": [
    {
     "data": {
      "text/html": [
       "<pre style=\"word-wrap: normal;white-space: pre;background: #fff0;line-height: 1.1;font-family: &quot;Courier New&quot;,Courier,monospace\">                    \n",
       "q_0: ───────────────\n",
       "                    \n",
       "q_1: ──■────────────\n",
       "       │            \n",
       "q_2: ──┼────■───────\n",
       "       │    │       \n",
       "q_3: ──┼────┼────■──\n",
       "     ┌─┴─┐┌─┴─┐┌─┴─┐\n",
       "q_4: ┤ X ├┤ X ├┤ X ├\n",
       "     └───┘└───┘└───┘</pre>"
      ],
      "text/plain": [
       "                    \n",
       "q_0: ───────────────\n",
       "                    \n",
       "q_1: ──■────────────\n",
       "       │            \n",
       "q_2: ──┼────■───────\n",
       "       │    │       \n",
       "q_3: ──┼────┼────■──\n",
       "     ┌─┴─┐┌─┴─┐┌─┴─┐\n",
       "q_4: ┤ X ├┤ X ├┤ X ├\n",
       "     └───┘└───┘└───┘"
      ]
     },
     "execution_count": 3,
     "metadata": {},
     "output_type": "execute_result"
    }
   ],
   "source": [
    "# Building an oracle function for f(x)\n",
    "orcl = QuantumCircuit(5)\n",
    "orcl.cx(1, 4)\n",
    "orcl.cx(2, 4)\n",
    "orcl.cx(3, 4)\n",
    "oracle = orcl.to_instruction()\n",
    "orcl.draw()"
   ]
  },
  {
   "cell_type": "code",
   "execution_count": 4,
   "metadata": {},
   "outputs": [],
   "source": [
    "# Quantum register, Classical register, Quantum Circuit creation\n",
    "q = QuantumRegister(5)\n",
    "c = ClassicalRegister(4)\n",
    "qc = QuantumCircuit(q, c)"
   ]
  },
  {
   "cell_type": "code",
   "execution_count": 5,
   "metadata": {},
   "outputs": [
    {
     "name": "stdout",
     "output_type": "stream",
     "text": [
      "{'0111': 1}\n"
     ]
    }
   ],
   "source": [
    "qc.x(4)\n",
    "qc.h(range(5))\n",
    "# Append the circuit of the oracle on the qubit register q to qc\n",
    "qc.append(oracle, q)\n",
    "qc.h(range(5))\n",
    "for i in range(4):\n",
    "    qc.measure(q[i], c[3 - i])\n",
    "\n",
    "backend = Aer.get_backend('qasm_simulator')\n",
    "qjob = execute(qc, backend, shots=1)\n",
    "counts = qjob.result().get_counts()\n",
    "print(counts)\n",
    "# Output is not the state |0000>, implying f(x) is balanced"
   ]
  },
  {
   "attachments": {},
   "cell_type": "markdown",
   "metadata": {},
   "source": [
    "## Bernstein-Vazirani Algorithm Implementation\n",
    "AIM: Given the function $f(x)$ and given the promise that it is linear, i.e., $f(x) = a\\cdot x$, the objective is to find $a$\n",
    "\n",
    "The quantum circuit is same as that for the Deutsch-Jozsa algorithm.  \n",
    "Following is the implementation of the Bernstein-Vazirani Algorithm for $f(x) = x_1 \\oplus x_2 \\oplus x_3 \\oplus x_4$"
   ]
  },
  {
   "cell_type": "code",
   "execution_count": 7,
   "metadata": {},
   "outputs": [],
   "source": [
    "# Building an oracle for the function\n",
    "orcl = QuantumCircuit(5)\n",
    "orcl.cx(0, 4)\n",
    "orcl.cx(1, 4)\n",
    "orcl.cx(2, 4)\n",
    "orcl.cx(3, 4)\n",
    "oracle = orcl.to_instruction()"
   ]
  },
  {
   "cell_type": "code",
   "execution_count": 8,
   "metadata": {},
   "outputs": [],
   "source": [
    "# Creating a quauntum register, classical register and a quantum circuit\n",
    "\n",
    "q = QuantumRegister(5)\n",
    "c = ClassicalRegister(4)\n",
    "qc = QuantumCircuit(q, c)"
   ]
  },
  {
   "cell_type": "code",
   "execution_count": 11,
   "metadata": {},
   "outputs": [
    {
     "name": "stdout",
     "output_type": "stream",
     "text": [
      "{'1111': 1}\n"
     ]
    }
   ],
   "source": [
    "# Deutsch-Jozsa algorithm\n",
    "qc.x(4)\n",
    "qc.h(range(5))\n",
    "qc.append(oracle, q)\n",
    "qc.h(range(5))\n",
    "for i in range(4):\n",
    "    qc.measure(q[i], c[3 - i])\n",
    "\n",
    "backend = Aer.get_backend('qasm_simulator')\n",
    "qjob = execute(qc, backend, shots=1)\n",
    "counts = qjob.result().get_counts()\n",
    "print(counts)\n",
    "# From the output, we can see a = 1111, i.e., f(x) is a linear function of the form f(x) = 1111.x"
   ]
  }
 ],
 "metadata": {
  "kernelspec": {
   "display_name": "quantum",
   "language": "python",
   "name": "python3"
  },
  "language_info": {
   "codemirror_mode": {
    "name": "ipython",
    "version": 3
   },
   "file_extension": ".py",
   "mimetype": "text/x-python",
   "name": "python",
   "nbconvert_exporter": "python",
   "pygments_lexer": "ipython3",
   "version": "3.11.3"
  },
  "orig_nbformat": 4
 },
 "nbformat": 4,
 "nbformat_minor": 2
}
